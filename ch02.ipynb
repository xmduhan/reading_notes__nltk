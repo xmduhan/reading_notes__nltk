{
 "cells": [
  {
   "cell_type": "code",
   "execution_count": null,
   "metadata": {
    "collapsed": true
   },
   "outputs": [],
   "source": [
    "import nltk\n",
    "from nltk import Text"
   ]
  },
  {
   "cell_type": "markdown",
   "metadata": {},
   "source": [
    "# 1.古腾堡项目(文学)"
   ]
  },
  {
   "cell_type": "code",
   "execution_count": null,
   "metadata": {
    "collapsed": false
   },
   "outputs": [],
   "source": [
    "# 古腾堡项目 http://www.gutenberg.org (49,000本免费电子书)\n",
    "from nltk.corpus import gutenberg\n",
    "gutenberg.fileids()\n",
    "text = Text(gutenberg.words(u'austen-emma.txt'))\n",
    "len(text)"
   ]
  },
  {
   "cell_type": "code",
   "execution_count": null,
   "metadata": {
    "collapsed": false
   },
   "outputs": [],
   "source": [
    "text.concordance('surprize')"
   ]
  },
  {
   "cell_type": "code",
   "execution_count": null,
   "metadata": {
    "collapsed": false
   },
   "outputs": [],
   "source": [
    "for fileid in gutenberg.fileids():\n",
    "    num_chars = len(gutenberg.raw(fileid))\n",
    "    num_words = len(gutenberg.words(fileid))\n",
    "    num_sents = len(gutenberg.sents(fileid))\n",
    "    num_vocab = len(set(w.lower() for w in gutenberg.words(fileid)))\n",
    "    print(round(num_chars/num_words), round(num_words/num_sents), round(num_words/num_vocab), fileid)\n"
   ]
  },
  {
   "cell_type": "markdown",
   "metadata": {},
   "source": [
    "# 2. 网络和聊天文本(非正式语言)"
   ]
  },
  {
   "cell_type": "code",
   "execution_count": null,
   "metadata": {
    "collapsed": false
   },
   "outputs": [],
   "source": [
    "from nltk.corpus import webtext\n",
    "for fileid in webtext.fileids():\n",
    "    print fileid,webtext.raw(fileid)[:50],'...'"
   ]
  },
  {
   "cell_type": "code",
   "execution_count": null,
   "metadata": {
    "collapsed": false
   },
   "outputs": [],
   "source": [
    "from nltk.corpus import nps_chat\n",
    "for fileid in nps_chat.fileids():\n",
    "    print fileid,nps_chat.raw(fileid)[:50],'...'"
   ]
  },
  {
   "cell_type": "markdown",
   "metadata": {},
   "source": [
    "# ３.布朗语料库"
   ]
  },
  {
   "cell_type": "code",
   "execution_count": null,
   "metadata": {
    "collapsed": false
   },
   "outputs": [],
   "source": [
    "# 布朗语料库 http://icame.uib.no/brown/bcm-los.html\n",
    "from nltk.corpus import brown \n",
    "brown.categories()"
   ]
  },
  {
   "cell_type": "code",
   "execution_count": null,
   "metadata": {
    "collapsed": false
   },
   "outputs": [],
   "source": [
    "brown.words(categories='news')"
   ]
  },
  {
   "cell_type": "code",
   "execution_count": null,
   "metadata": {
    "collapsed": false
   },
   "outputs": [],
   "source": [
    " brown.words(fileids=['cg22'])"
   ]
  },
  {
   "cell_type": "code",
   "execution_count": null,
   "metadata": {
    "collapsed": false
   },
   "outputs": [],
   "source": [
    "brown.sents(categories=['news', 'editorial', 'reviews'])"
   ]
  },
  {
   "cell_type": "code",
   "execution_count": null,
   "metadata": {
    "collapsed": false
   },
   "outputs": [],
   "source": [
    "from nltk.corpus import brown\n",
    "news_text = brown.words(categories='news')\n",
    "fdist = nltk.FreqDist(w.lower() for w in news_text)\n",
    "modals = ['can', 'could', 'may', 'might', 'must', 'will']\n",
    "for m in modals:\n",
    "    print m + ':',fdist[m]\n",
    "    "
   ]
  },
  {
   "cell_type": "code",
   "execution_count": null,
   "metadata": {
    "collapsed": false
   },
   "outputs": [],
   "source": [
    "data = [(genre, word)  for genre in brown.categories()  for word in brown.words(categories=genre)]\n",
    "type(data), data[:10]"
   ]
  },
  {
   "cell_type": "code",
   "execution_count": null,
   "metadata": {
    "collapsed": false
   },
   "outputs": [],
   "source": [
    "# 有点类似二级分组统计,类似数据库中的 group by genre,word\n",
    "cfd = nltk.ConditionalFreqDist(data)\n",
    "for i,key in enumerate(cfd['adventure']):\n",
    "    print key ,':', cfd['adventure'][key]\n",
    "    if i > 10:\n",
    "        break"
   ]
  },
  {
   "cell_type": "code",
   "execution_count": null,
   "metadata": {
    "collapsed": false
   },
   "outputs": [],
   "source": [
    "# 利用二级统计数据做一个交叉统计表\n",
    "genres = ['news', 'religion', 'hobbies', 'science_fiction', 'romance', 'humor']\n",
    "modals = ['can', 'could', 'may', 'might', 'must', 'will']\n",
    "cfd.tabulate(conditions=genres, samples=modals)"
   ]
  },
  {
   "cell_type": "markdown",
   "metadata": {},
   "source": [
    "# 4.路透社语料库"
   ]
  },
  {
   "cell_type": "code",
   "execution_count": null,
   "metadata": {
    "collapsed": false
   },
   "outputs": [],
   "source": [
    "# 路透社语料库 (10788个新闻档案, 130万字, 90个主题, 分成训练和测试两个分组)\n",
    "from nltk.corpus import reuters\n",
    "len(reuters.fileids()) , reuters.fileids()[:10]"
   ]
  },
  {
   "cell_type": "code",
   "execution_count": null,
   "metadata": {
    "collapsed": false
   },
   "outputs": [],
   "source": [
    "# 一共两个分组\n",
    "set([ fileid.split('/')[0] for fileid in reuters.fileids() ])"
   ]
  },
  {
   "cell_type": "code",
   "execution_count": null,
   "metadata": {
    "collapsed": false
   },
   "outputs": [],
   "source": [
    "print reuters.categories()"
   ]
  },
  {
   "cell_type": "code",
   "execution_count": null,
   "metadata": {
    "collapsed": false
   },
   "outputs": [],
   "source": [
    "print reuters.categories('training/9865')\n",
    "print reuters.categories(['training/9865','test/14826'])"
   ]
  },
  {
   "cell_type": "code",
   "execution_count": null,
   "metadata": {
    "collapsed": false
   },
   "outputs": [],
   "source": [
    "# 文本的开头几个单词是大写开头\n",
    "print reuters.words('test/14826')[:50]"
   ]
  },
  {
   "cell_type": "markdown",
   "metadata": {},
   "source": [
    "# 5.就职演说语料库"
   ]
  },
  {
   "cell_type": "code",
   "execution_count": 1,
   "metadata": {
    "collapsed": false
   },
   "outputs": [
    {
     "name": "stdout",
     "output_type": "stream",
     "text": [
      "[u'1789-Washington.txt', u'1793-Washington.txt', u'1797-Adams.txt', u'1801-Jefferson.txt', u'1805-Jefferson.txt', u'1809-Madison.txt', u'1813-Madison.txt', u'1817-Monroe.txt', u'1821-Monroe.txt', u'1825-Adams.txt', u'1829-Jackson.txt', u'1833-Jackson.txt', u'1837-VanBuren.txt', u'1841-Harrison.txt', u'1845-Polk.txt', u'1849-Taylor.txt', u'1853-Pierce.txt', u'1857-Buchanan.txt', u'1861-Lincoln.txt', u'1865-Lincoln.txt', u'1869-Grant.txt', u'1873-Grant.txt', u'1877-Hayes.txt', u'1881-Garfield.txt', u'1885-Cleveland.txt', u'1889-Harrison.txt', u'1893-Cleveland.txt', u'1897-McKinley.txt', u'1901-McKinley.txt', u'1905-Roosevelt.txt', u'1909-Taft.txt', u'1913-Wilson.txt', u'1917-Wilson.txt', u'1921-Harding.txt', u'1925-Coolidge.txt', u'1929-Hoover.txt', u'1933-Roosevelt.txt', u'1937-Roosevelt.txt', u'1941-Roosevelt.txt', u'1945-Roosevelt.txt', u'1949-Truman.txt', u'1953-Eisenhower.txt', u'1957-Eisenhower.txt', u'1961-Kennedy.txt', u'1965-Johnson.txt', u'1969-Nixon.txt', u'1973-Nixon.txt', u'1977-Carter.txt', u'1981-Reagan.txt', u'1985-Reagan.txt', u'1989-Bush.txt', u'1993-Clinton.txt', u'1997-Clinton.txt', u'2001-Bush.txt', u'2005-Bush.txt', u'2009-Obama.txt']\n"
     ]
    }
   ],
   "source": [
    "# 55个文本的合集，每一个文本时都是一个总统的就职演说的文本\n",
    "import nltk\n",
    "from nltk.corpus import inaugural\n",
    "print inaugural.fileids()\n"
   ]
  },
  {
   "cell_type": "code",
   "execution_count": 4,
   "metadata": {
    "collapsed": false
   },
   "outputs": [],
   "source": [
    "# 统计不同年代关键词语出现的次数\n",
    "wordToCount = [\"citizen\", \"democracy\", \"freedom\", \"duties\", \"america\"]\n",
    "appearList  = [ \n",
    "    (target, fileid[:4])   for fileid in inaugural.fileids()    for w in inaugural.words(fileid)  for target in wordToCount if w.lower().startswith(target)\n",
    "]\n",
    "cfd = nltk.ConditionalFreqDist(appearList) \n",
    "cfd.plot()\n"
   ]
  },
  {
   "cell_type": "markdown",
   "metadata": {},
   "source": [
    "# 6.标注文本语料库"
   ]
  },
  {
   "cell_type": "code",
   "execution_count": null,
   "metadata": {
    "collapsed": true
   },
   "outputs": [],
   "source": [
    "# nltk提供了很多标注的语料库（词性标注，命名实体，语法结构，语义色彩等）\n",
    "# 因为我们下载了所有的nltk_date所以这些我们应该都有\n",
    "# 详细列表在<<python 自然语言处理>>的49页\n",
    "# 也可参见http://www.nltk.org/book/ch02.html Table 1.2\n"
   ]
  },
  {
   "cell_type": "code",
   "execution_count": 7,
   "metadata": {
    "collapsed": false
   },
   "outputs": [
    {
     "data": {
      "text/plain": [
       "[u'El', u'grupo', u'estatal', ...]"
      ]
     },
     "execution_count": 7,
     "metadata": {},
     "output_type": "execute_result"
    }
   ],
   "source": [
    "nltk.corpus.cess_esp.words()"
   ]
  },
  {
   "cell_type": "code",
   "execution_count": 8,
   "metadata": {
    "collapsed": false
   },
   "outputs": [
    {
     "data": {
      "text/plain": [
       "[u'Um', u'revivalismo', u'refrescante', u'O', ...]"
      ]
     },
     "execution_count": 8,
     "metadata": {},
     "output_type": "execute_result"
    }
   ],
   "source": [
    "nltk.corpus.floresta.words()"
   ]
  },
  {
   "cell_type": "code",
   "execution_count": 14,
   "metadata": {
    "collapsed": false
   },
   "outputs": [
    {
     "name": "stdout",
     "output_type": "stream",
     "text": [
      "पूर्ण प्रतिबंध हटाओ : इराक संयुक्त राष्ट्र । इराक के विदेश मंत्री ने अमरीका के उस प्रस्ताव का मजाक उड़ाया है , जिसमें अमरीका ने संयुक्त राष्ट्र के प्रतिबंधों को इराकी नागरिकों के लिए कम हानिकारक बनाने के लिए कहा है । विदेश मंत्री का कहना है कि चूंकि बगदाद संयुक्त राष्ट्र की मांगों का पालन करते हुए अपने भारी विनाशकारी हथियारों को नष्ट कर रहा है । लिहाजा प्रतिबंधों को पूर्ण रूप से उठा दिया जाना चाहिए । विदेश मंत्री मोहम्मद सईद का कहना है कि वे इसे 'सुव्यवस्थित प्रतिबंध' कह कर आम राय और सुरक्षा परिषद को छल\n"
     ]
    }
   ],
   "source": [
    "nltk.corpus.indian.words('hindi.pos')\n",
    "for i in nltk.corpus.indian.words('hindi.pos')[:100]:\n",
    "    print i,"
   ]
  },
  {
   "cell_type": "code",
   "execution_count": 17,
   "metadata": {
    "collapsed": false
   },
   "outputs": [
    {
     "name": "stdout",
     "output_type": "stream",
     "text": [
      "[u'Abkhaz-Cyrillic+Abkh', u'Abkhaz-UTF8', u'Achehnese-Latin1', u'Achuar-Shiwiar-Latin1', u'Adja-UTF8', u'Afaan_Oromo_Oromiffa-Latin1', u'Afrikaans-Latin1', u'Aguaruna-Latin1', u'Akuapem_Twi-UTF8', u'Albanian_Shqip-Latin1', u'Amahuaca', u'Amahuaca-Latin1', u'Amarakaeri-Latin1', u'Amuesha-Yanesha-UTF8', u'Arabela-Latin1', u'Arabic_Alarabia-Arabic', u'Asante-UTF8', u'Ashaninca-Latin1', u'Asheninca-Latin1', u'Asturian_Bable-Latin1', u'Aymara-Latin1', u'Balinese-Latin1', u'Bambara-UTF8', u'Baoule-UTF8', u'Basque_Euskara-Latin1', u'Batonu_Bariba-UTF8', u'Belorus_Belaruski-Cyrillic', u'Belorus_Belaruski-UTF8', u'Bemba-Latin1', u'Bengali-UTF8', u'Beti-UTF8', u'Bichelamar-Latin1', u'Bikol_Bicolano-Latin1', u'Bora-Latin1', u'Bosnian_Bosanski-Cyrillic', u'Bosnian_Bosanski-Latin2', u'Bosnian_Bosanski-UTF8', u'Breton-Latin1', u'Bugisnese-Latin1', u'Bulgarian_Balgarski-Cyrillic', u'Bulgarian_Balgarski-UTF8', u'Cakchiquel-Latin1', u'Campa_Pajonalino-Latin1', u'Candoshi-Shapra-Latin1', u'Caquinte-Latin1', u'Cashibo-Cacataibo-Latin1', u'Cashinahua-Latin1', u'Catalan-Latin1', u'Catalan_Catala-Latin1', u'Cebuano-Latin1', u'Chamorro-Latin1', u'Chayahuita-Latin1', u'Chechewa_Nyanja-Latin1', u'Chickasaw-Latin1', u'Chinanteco-Ajitlan-Latin1', u'Chinanteco-UTF8', u'Chinese_Mandarin-GB2312', u'Chuuk_Trukese-Latin1', u'Cokwe-Latin1', u'Corsican-Latin1', u'Croatian_Hrvatski-Latin2', u'Czech-Latin2', u'Czech-UTF8', u'Czech_Cesky-Latin2', u'Czech_Cesky-UTF8', u'Dagaare-UTF8', u'Dagbani-UTF8', u'Dangme-UTF8', u'Danish_Dansk-Latin1', u'Dendi-UTF8', u'Ditammari-UTF8', u'Dutch_Nederlands-Latin1', u'Edo-Latin1', u'English-Latin1', u'Esperanto-UTF8', u'Estonian_Eesti-Latin1', u'Ewe_Eve-UTF8', u'Fante-UTF8', u'Faroese-Latin1', u'Farsi_Persian-UTF8', u'Farsi_Persian-v2-UTF8', u'Fijian-Latin1', u'Filipino_Tagalog-Latin1', u'Finnish_Suomi-Latin1', u'Fon-UTF8', u'French_Francais-Latin1', u'Frisian-Latin1', u'Friulian_Friulano-Latin1', u'Ga-UTF8', u'Gagauz_Gagauzi-UTF8', u'Galician_Galego-Latin1', u'Garifuna_Garifuna-Latin1', u'German_Deutsch-Latin1', u'Gonja-UTF8', u'Greek_Ellinika-Greek', u'Greek_Ellinika-UTF8', u'Greenlandic_Inuktikut-Latin1', u'Guarani-Latin1', u'Guen_Mina-UTF8', u'HaitianCreole_Kreyol-Latin1']\n"
     ]
    }
   ],
   "source": [
    "print nltk.corpus.udhr.fileids()[:100]"
   ]
  },
  {
   "cell_type": "code",
   "execution_count": 11,
   "metadata": {
    "collapsed": false
   },
   "outputs": [
    {
     "data": {
      "text/plain": [
       "[u'Saben', u'umat', u'manungsa', u'lair', u'kanthi', ...]"
      ]
     },
     "execution_count": 11,
     "metadata": {},
     "output_type": "execute_result"
    }
   ],
   "source": [
    "nltk.corpus.udhr.words('Javanese-Latin1')[11:]"
   ]
  },
  {
   "cell_type": "markdown",
   "metadata": {},
   "source": [
    "# 7.人员宣言语料库"
   ]
  },
  {
   "cell_type": "code",
   "execution_count": null,
   "metadata": {
    "collapsed": true
   },
   "outputs": [],
   "source": [
    "# 有300中语言的翻译的<<人权宣言>>"
   ]
  },
  {
   "cell_type": "code",
   "execution_count": 22,
   "metadata": {
    "collapsed": false
   },
   "outputs": [
    {
     "name": "stdout",
     "output_type": "stream",
     "text": [
      "[u'Abkhaz-Cyrillic+Abkh', u'Abkhaz-UTF8', u'Achehnese-Latin1', u'Achuar-Shiwiar-Latin1', u'Adja-UTF8', u'Afaan_Oromo_Oromiffa-Latin1', u'Afrikaans-Latin1', u'Aguaruna-Latin1', u'Akuapem_Twi-UTF8', u'Albanian_Shqip-Latin1', u'Amahuaca', u'Amahuaca-Latin1', u'Amarakaeri-Latin1', u'Amuesha-Yanesha-UTF8', u'Arabela-Latin1', u'Arabic_Alarabia-Arabic', u'Asante-UTF8', u'Ashaninca-Latin1', u'Asheninca-Latin1', u'Asturian_Bable-Latin1', u'Aymara-Latin1', u'Balinese-Latin1', u'Bambara-UTF8', u'Baoule-UTF8', u'Basque_Euskara-Latin1', u'Batonu_Bariba-UTF8', u'Belorus_Belaruski-Cyrillic', u'Belorus_Belaruski-UTF8', u'Bemba-Latin1', u'Bengali-UTF8', u'Beti-UTF8', u'Bichelamar-Latin1', u'Bikol_Bicolano-Latin1', u'Bora-Latin1', u'Bosnian_Bosanski-Cyrillic', u'Bosnian_Bosanski-Latin2', u'Bosnian_Bosanski-UTF8', u'Breton-Latin1', u'Bugisnese-Latin1', u'Bulgarian_Balgarski-Cyrillic', u'Bulgarian_Balgarski-UTF8', u'Cakchiquel-Latin1', u'Campa_Pajonalino-Latin1', u'Candoshi-Shapra-Latin1', u'Caquinte-Latin1', u'Cashibo-Cacataibo-Latin1', u'Cashinahua-Latin1', u'Catalan-Latin1', u'Catalan_Catala-Latin1', u'Cebuano-Latin1', u'Chamorro-Latin1', u'Chayahuita-Latin1', u'Chechewa_Nyanja-Latin1', u'Chickasaw-Latin1', u'Chinanteco-Ajitlan-Latin1', u'Chinanteco-UTF8', u'Chinese_Mandarin-GB2312', u'Chuuk_Trukese-Latin1', u'Cokwe-Latin1', u'Corsican-Latin1', u'Croatian_Hrvatski-Latin2', u'Czech-Latin2', u'Czech-UTF8', u'Czech_Cesky-Latin2', u'Czech_Cesky-UTF8', u'Dagaare-UTF8', u'Dagbani-UTF8', u'Dangme-UTF8', u'Danish_Dansk-Latin1', u'Dendi-UTF8', u'Ditammari-UTF8', u'Dutch_Nederlands-Latin1', u'Edo-Latin1', u'English-Latin1', u'Esperanto-UTF8', u'Estonian_Eesti-Latin1', u'Ewe_Eve-UTF8', u'Fante-UTF8', u'Faroese-Latin1', u'Farsi_Persian-UTF8', u'Farsi_Persian-v2-UTF8', u'Fijian-Latin1', u'Filipino_Tagalog-Latin1', u'Finnish_Suomi-Latin1', u'Fon-UTF8', u'French_Francais-Latin1', u'Frisian-Latin1', u'Friulian_Friulano-Latin1', u'Ga-UTF8', u'Gagauz_Gagauzi-UTF8', u'Galician_Galego-Latin1', u'Garifuna_Garifuna-Latin1', u'German_Deutsch-Latin1', u'Gonja-UTF8', u'Greek_Ellinika-Greek', u'Greek_Ellinika-UTF8', u'Greenlandic_Inuktikut-Latin1', u'Guarani-Latin1', u'Guen_Mina-UTF8', u'HaitianCreole_Kreyol-Latin1', u'HaitianCreole_Popular-Latin1', u'Hani-Latin1', u'Hausa_Haoussa-Latin1', u'Hawaiian-UTF8', u'Hebrew_Ivrit-Hebrew', u'Hebrew_Ivrit-UTF8', u'Hiligaynon-Latin1', u'Hindi-UTF8', u'Hindi_web-UTF8', u'Hmong_Miao-Sichuan-Guizhou-Yunnan-Latin1', u'Hmong_Miao-SouthernEast-Guizhou-Latin1', u'Hmong_Miao_Northern-East-Guizhou-Latin1', u'Hrvatski_Croatian-Latin2', u'Huasteco-Latin1', u'Huitoto_Murui-Latin1', u'Hungarian_Magyar-Latin1', u'Hungarian_Magyar-Latin2', u'Hungarian_Magyar-UTF8', u'Ibibio_Efik-Latin1', u'Icelandic_Yslenska-Latin1', u'Ido-Latin1', u'Igbo-UTF8', u'Iloko_Ilocano-Latin1', u'Indonesian-Latin1', u'Interlingua-Latin1', u'Inuktikut_Greenlandic-Latin1', u'IrishGaelic_Gaeilge-Latin1', u'Italian-Latin1', u'Italian_Italiano-Latin1', u'Japanese_Nihongo-EUC', u'Japanese_Nihongo-SJIS', u'Japanese_Nihongo-UTF8', u'Javanese-Latin1', u'Jola-Fogny_Diola-UTF8', u'Kabye-UTF8', u'Kannada-UTF8', u'Kaonde-Latin1', u'Kapampangan-Latin1', u'Kasem-UTF8', u'Kazakh-Cyrillic', u'Kazakh-UTF8', u'Kiche_Quiche-Latin1', u'Kicongo-Latin1', u'Kimbundu_Mbundu-Latin1', u'Kinyamwezi_Nyamwezi-Latin1', u'Kinyarwanda-Latin1', u'Kituba-Latin1', u'Korean_Hankuko-UTF8', u'Kpelewo-UTF8', u'Krio-UTF8', u'Kurdish-UTF8', u'Lamnso_Lam-nso-UTF8', u'Latin_Latina-Latin1', u'Latin_Latina-v2-Latin1', u'Latvian-Latin1', u'Limba-UTF8', u'Lingala-Latin1', u'Lithuanian_Lietuviskai-Baltic', u'Lozi-Latin1', u'Luba-Kasai_Tshiluba-Latin1', u'Luganda_Ganda-Latin1', u'Lunda_Chokwe-lunda-Latin1', u'Luvale-Latin1', u'Luxembourgish_Letzebuergeusch-Latin1', u'Macedonian-UTF8', u'Madurese-Latin1', u'Makonde-Latin1', u'Malagasy-Latin1', u'Malay_BahasaMelayu-Latin1', u'Maltese-UTF8', u'Mam-Latin1', u'Maninka-UTF8', u'Maori-Latin1', u'Mapudungun_Mapuzgun-Latin1', u'Mapudungun_Mapuzgun-UTF8', u'Marshallese-Latin1', u'Matses-Latin1', u'Mayan_Yucateco-Latin1', u'Mazahua_Jnatrjo-UTF8', u'Mazateco-Latin1', u'Mende-UTF8', u'Mikmaq_Micmac-Mikmaq-Latin1', u'Minangkabau-Latin1', u'Miskito_Miskito-Latin1', u'Mixteco-Latin1', u'Mongolian_Khalkha-Cyrillic', u'Mongolian_Khalkha-UTF8', u'Moore_More-UTF8', u'Nahuatl-Latin1', u'Ndebele-Latin1', u'Nepali-UTF8', u'Ngangela_Nyemba-Latin1', u'NigerianPidginEnglish-Latin1', u'Nomatsiguenga-Latin1', u'NorthernSotho_Pedi-Sepedi-Latin1', u'Norwegian-Latin1', u'Norwegian_Norsk-Bokmal-Latin1', u'Norwegian_Norsk-Nynorsk-Latin1', u'Nyanja_Chechewa-Latin1', u'Nyanja_Chinyanja-Latin1', u'Nzema-UTF8', u'OccitanAuvergnat-Latin1', u'OccitanLanguedocien-Latin1', u'Oromiffa_AfaanOromo-Latin1', u'Osetin_Ossetian-UTF8', u'Oshiwambo_Ndonga-Latin1', u'Otomi_Nahnu-Latin1', u'Paez-Latin1', u'Palauan-Latin1', u'Peuhl-UTF8', u'Picard-Latin1', u'Pipil-Latin1', u'Polish-Latin2', u'Polish_Polski-Latin2', u'Ponapean-Latin1', u'Portuguese_Portugues-Latin1', u'Pulaar-UTF8', u'Punjabi_Panjabi-UTF8', u'Purhepecha-UTF8', u'Qechi_Kekchi-Latin1', u'Quechua-Latin1', u'Quichua-Latin1', u'Rarotongan_MaoriCookIslands-Latin1', u'Rhaeto-Romance_Rumantsch-Latin1', u'Romani-Latin1', u'Romani-UTF8', u'Romanian-Latin2', u'Romanian_Romana-Latin2', u'Rukonzo_Konjo-Latin1', u'Rundi_Kirundi-Latin1', u'Runyankore-rukiga_Nkore-kiga-Latin1', u'Russian-Cyrillic', u'Russian-UTF8', u'Russian_Russky-Cyrillic', u'Russian_Russky-UTF8', u'Sami_Lappish-UTF8', u'Sammarinese-Latin1', u'Samoan-Latin1', u'Sango_Sangho-Latin1', u'Sanskrit-UTF8', u'Saraiki-UTF8', u'Sardinian-Latin1', u'ScottishGaelic_GaidhligAlbanach-Latin1', u'Seereer-UTF8', u'Serbian_Srpski-Cyrillic', u'Serbian_Srpski-Latin2', u'Serbian_Srpski-UTF8', u'Sharanahua-Latin1', u'Shipibo-Conibo-Latin1', u'Shona-Latin1', u'Sinhala-UTF8', u'Siswati-Latin1', u'Slovak-Latin2', u'Slovak_Slovencina-Latin2', u'Slovenian_Slovenscina-Latin2', u'SolomonsPidgin_Pijin-Latin1', u'Somali-Latin1', u'Soninke_Soninkanxaane-UTF8', u'Sorbian-Latin2', u'SouthernSotho_Sotho-Sesotho-Sutu-Sesutu-Latin1', u'Spanish-Latin1', u'Spanish_Espanol-Latin1', u'Sukuma-Latin1', u'Sundanese-Latin1', u'Sussu_Soussou-Sosso-Soso-Susu-UTF8', u'Swaheli-Latin1', u'Swahili_Kiswahili-Latin1', u'Swedish_Svenska-Latin1', u'Tahitian-UTF8', u'Tenek_Huasteco-Latin1', u'Tetum-Latin1', u'Themne_Temne-UTF8', u'Tiv-Latin1', u'Toba-UTF8', u'Tojol-abal-Latin1', u'TokPisin-Latin1', u'Tonga-Latin1', u'Tongan_Tonga-Latin1', u'Totonaco-Latin1', u'Trukese_Chuuk-Latin1', u'Turkish_Turkce-Turkish', u'Turkish_Turkce-UTF8', u'Tzeltal-Latin1', u'Tzotzil-Latin1', u'Uighur_Uyghur-Latin1', u'Uighur_Uyghur-UTF8', u'Ukrainian-Cyrillic', u'Ukrainian-UTF8', u'Umbundu-Latin1', u'Urarina-Latin1', u'Uzbek-Latin1', u'Vietnamese-ALRN-UTF8', u'Vietnamese-UTF8', u'Vlach-Latin1', u'Walloon_Wallon-Latin1', u'Wama-UTF8', u'Waray-Latin1', u'Wayuu-Latin1', u'Welsh_Cymraeg-Latin1', u'WesternSotho_Tswana-Setswana-Latin1', u'Wolof-Latin1', u'Xhosa-Latin1', u'Yagua-Latin1', u'Yao-Latin1', u'Yapese-Latin1', u'Yoruba-UTF8', u'Zapoteco-Latin1', u'Zapoteco-SanLucasQuiavini-Latin1', u'Zhuang-Latin1', u'Zulu-Latin1']\n"
     ]
    }
   ],
   "source": [
    "from nltk.corpus import udhr\n",
    "print udhr.fileids()\n",
    "    "
   ]
  },
  {
   "cell_type": "code",
   "execution_count": 31,
   "metadata": {
    "collapsed": false
   },
   "outputs": [
    {
     "name": "stdout",
     "output_type": "stream",
     "text": [
      "世界人权宣言联合国大会一九四八年十二月十日第217A(III)号决议通过并颁布1948年12月10日，联合国大会通过并颁布《世界人权宣言》。这一具有历史意义的《宣言》颁布后，大会要求所有会员国广为宣传，并且“不分国家或领土的政治地位,主要在各级学校和其他教育机构加以传播、展示、阅读和阐述。”《宣言》全文如下：序言鉴于对人类家庭所有成员的固有尊严及其平等的和不移的权利的承认,乃是世界自由、正义与和平的基础,鉴于对人权的无视和侮蔑已发展为野蛮暴行,这些暴行玷污了人类的良心,而一个人人享有言论和信仰自由并免予恐惧和匮乏的世界的来临,已被宣布为普通人民的最高愿望,鉴于为使人类不致迫不得已铤而走险对暴政和压迫进行反叛,有必要使人权受法治的保护,鉴于有必要促进各国间友好关系的发展,鉴于各联合国国家的人民已在联合国宪章中重申他们对基本人权、人格尊严和价值以及男女平等权利的信念,并决心促成较大自由中的社会进步和生活水平的改善,鉴于各会员国业已誓愿同联合国合作以促进对人权和基本自由的普遍尊重和遵行,鉴于对这些权利和自由的普遍了解对于这个誓愿的充分实现具有很大的重要性,因此现在,大会,发布这一世界人权宣言,作为所有人民和所有国家努力实现的共同标准,以期每一个人和社会机构经常铭念本宣言,努力通过教诲和教育促进对权利和自由的尊重,并通过国家的和国际的渐进措施,使这些权利和自由在各会员国本身人民及在其管辖下领土的人民中得到普遍和有效的承认和遵行;第一条人人生而自由,在尊严和权利上一律平等。他们赋有理性和良心,并应以兄弟关系的精神相对待。第二条人人有资格享有本宣言所载的一切权利和自由,不分种族、肤色、性别、语言、宗教、政治或其他见解、国籍或社会出身、财产、出生或其他身分等任何区别。并且不得因一人所属的国家或领土的政治的、行政的或者国际的地位之不同而有所区别,无论该领土是独立领土、托管领土、非自治领土或者处于其他任何主权受限制的情况之下。第三条人人有权享有生命、自由和人身安全。第四条任何人不得使为奴隶或奴役;一切形式的奴隶制度和奴隶买卖,均应予以禁止。第五条任何人不得加以酷刑,或施以残忍的、不人道的或侮辱性的待遇或刑罚。第六条人人在任何地方有权被承认在法律前的人格。第七条法律之前人人平等,并有权享受法律的平等保护,不受任何歧视。人人有权享受平等保护,以免受违反本宣言的任何歧视行为以及煽动这种歧视的任何行为之害。第八条任何人当宪法或法律所赋予他的基本权利遭受侵害时,有权由合格的国家法庭对这种侵害行为作有效的补救。第九条任何人不得加以任意逮捕、拘禁或放逐。第十条人人完全平等地有权由一个独立而无偏倚的法庭进行公正的和公开的审讯,以确定他的权利和义务并判定对他提出的任何刑事指控。第十一条㈠凡受刑事控告者,在未经获得辩护上所需的一切保证的公开审判而依法证实有罪以前,有权被视为无罪。㈡任何人的任何行为或不行为,在其发生时依国家法或国际法均不构成刑事罪者,不得被判为犯有刑事罪。刑罚不得重于犯罪时适用的法律规定。第十二条任何人的私生活、家庭、住宅和通信不得任意干涉,他的荣誉和名誉不得加以攻击。人人有权享受法律保护,以免受这种干涉或攻击。第十三条㈠人人在各国境内有权自由迁徙和居住。㈡人人有权离开任何国家,包括其本国在内,并有权返回他的国家。第十四条㈠人人有权在其他国家寻求和享受庇护以避免迫害。㈡在真正由于非政治性的罪行或违背联合国的宗旨和原则的行为而被起诉的情况下,不得援用此种权利。第十五条㈠人人有权享有国籍。㈡任何人的国籍不得任意剥夺,亦不得否认其改变国籍的权利。第十六条㈠成年男女,不受种族、国籍或宗教的任何限制有权婚嫁和成立家庭。他们在婚姻方面,在结婚期间和在解除婚约时,应有平等的权利。㈡只有经男女双方的自由和完全的同意,才能缔婚。㈢家庭是天然的和基本的社会单元,并应受社会和国家的保护。第十七条㈠人人得有单独的财产所有权以及同他人合有的所有权。㈡任何人的财产不得任意剥夺。第十八条人人有思想、良心和宗教自由的权利;此项权利包括改变他的宗教或信仰的自由,以及单独或集体、公开或秘密地以教义、实践、礼拜和戒律表示他的宗教或信仰的自由。第十九条人人有权享有主张和发表意见的自由;此项权利包括持有主张而不受干涉的自由,和通过任何媒介和不论国界寻求、接受和传递消息和思想的自由。第二十条㈠人人有权享有和平集会和结社的自由。㈡任何人不得迫使隶属于某一团体。第二十一条㈠人人有直接或通过自由选择的代表参与治理本国的权利。㈡人人有平等机会参加本国公务的权利。㈢人民的意志是政府权力的基础;这一意志应以定期的和真正的选举予以表现,而选举应依据普遍和平等的投票权,并以不记名投票或相当的自由投票程序进行。第二十二条每个人,作为社会的一员,有权享受社会保障,并有权享受他的个人尊严和人格的自由发展所必需的经济、社会和文化方面各种权利的实现,这种实现是通过国家努力和国际合作并依照各国的组织和资源情况。第二十三条㈠人人有权工作、自由选择职业、享受公正和合适的工作条件并享受免于失业的保障。㈡人人有同工同酬的权利,不受任何歧视。㈢每一个工作的人,有权享受公正和合适的报酬,保证使他本人和家属有一个符合人的生活条件,必要时并辅以其他方式的社会保障。㈣人人有为维护其利益而组织和参加工会的权利。第二十四条人人有享有休息和闲暇的权利,包括工作时间有合理限制和定期给薪休假的权利。第二十五条㈠人人有权享受为维持他本人和家属的健康和福利所需的生活水准,包括食物、衣着、住房、医疗和必要的社会服务;在遭到失业、疾病、残废、守寡、衰老或在其他不能控制的情况下丧失谋生能力时,有权享受保障。㈡母亲和儿童有权享受特别照顾和协助。一切儿童,无论婚生或非婚生,都应享受同样的社会保护。第二十六条㈠人人都有受教育的权利,教育应当免费,至少在初级和基本阶段应如此。初级教育应属义务性质。技术和职业教育应普遍设立。高等教育应根据成绩而对一切人平等开放。㈡教育的目的在于充分发展人的个性并加强对人权和基本自由的尊重。教育应促进各国、各种族或各宗教集团间的了解、容忍和友谊,并应促进联合国维护和平的各项活动。㈢父母对其子女所应受的教育的种类,有优先选择的权利。第二十七条㈠人人有权自由参加社会的文化生活,享受艺术,并分享科学进步及其产生的福利。㈡人人对由于他所创作的任何科学、文学或美术作品而产生的精神的和物质的利益,有享受保护的权利。第二十八条人人有权要求一种社会的和国际的秩序,在这种秩序中,本宣言所载的权利和自由能获得充分实现。第二十九条㈠人人对社会负有义务,因为只有在社会中他的个性才可能得到自由和充分的发展。㈡人人在行使他的权利和自由时,只受法律所确定的限制,确定此种限制的唯一目的在于保证对旁人的权利和自由给予应有的承认和尊重,并在一个民主的社会中适应道德、公共秩序和普遍福利的正当需要。㈢这些权利和自由的行使,无论在任何情形下均不得违背联合国的宗旨和原则。第三十条本宣言的任何条文,不得解释为默许任何国家、集团或个人有权进行任何旨在破坏本宣言所载的任何权利和自由的活动或行为。\n"
     ]
    }
   ],
   "source": [
    "print ''.join(udhr.words(u'Chinese_Mandarin-GB2312'))\n"
   ]
  },
  {
   "cell_type": "markdown",
   "metadata": {},
   "source": [
    "# 8.导入自己的语料库"
   ]
  },
  {
   "cell_type": "code",
   "execution_count": null,
   "metadata": {
    "collapsed": true
   },
   "outputs": [],
   "source": [
    "# 导入语料库的方法,(注意这个没有执行过)\n",
    "from nltk.corpus import PlaintextCorpusReader\n",
    "corpus_root = '/usr/share/dict' [1]\n",
    "wordlists = PlaintextCorpusReader(corpus_root, '.*') [2]\n",
    "wordlists.fileids()\n",
    "# out[*] : ['README', 'connectives', 'propernames', 'web2', 'web2a', 'words']\n",
    "wordlists.words('connectives')\n",
    "# out[*] : ['the', 'of', 'and', 'to', 'a', 'in', 'that', 'is', ...]"
   ]
  },
  {
   "cell_type": "markdown",
   "metadata": {},
   "source": [
    "# 9.词汇表"
   ]
  },
  {
   "cell_type": "code",
   "execution_count": 35,
   "metadata": {
    "collapsed": false
   },
   "outputs": [
    {
     "name": "stdout",
     "output_type": "stream",
     "text": [
      "总用量 2328\r\n",
      "drwxr-xr-x   2 root root   4096  8月  3 22:39 .\r\n",
      "drwxr-xr-x 345 root root  12288  9月 20 08:53 ..\r\n",
      "-rw-r--r--   1 root root 938848 10月 23  2011 american-english\r\n",
      "-rw-r--r--   1 root root 938969 10月 23  2011 british-english\r\n",
      "-rw-r--r--   1 root root 477238  3月 23  2014 cracklib-small\r\n",
      "-rw-r--r--   1 root root    199  1月 15  2014 README.select-wordlist\r\n",
      "lrwxrwxrwx   1 root root     30  8月  3 22:35 words -> /etc/dictionaries-common/words\r\n",
      "lrwxrwxrwx   1 root root     16  8月  3 22:35 words.pre-dictionaries-common -> american-english\r\n"
     ]
    }
   ],
   "source": [
    "# linux下测词汇表\n",
    "!ls -al /usr/share/dict/"
   ]
  },
  {
   "cell_type": "code",
   "execution_count": 40,
   "metadata": {
    "collapsed": false
   },
   "outputs": [
    {
     "name": "stdout",
     "output_type": "stream",
     "text": [
      "[u'A', u'a', u'aa', u'aal', u'aalii', u'aam', u'Aani', u'aardvark', u'aardwolf', u'Aaron', u'Aaronic', u'Aaronical', u'Aaronite', u'Aaronitic', u'Aaru', u'Ab', u'aba', u'Ababdeh', u'Ababua', u'abac', u'abaca', u'abacate', u'abacay', u'abacinate', u'abacination', u'abaciscus', u'abacist', u'aback', u'abactinal', u'abactinally', u'abaction', u'abactor', u'abaculus', u'abacus', u'Abadite', u'abaff', u'abaft', u'abaisance', u'abaiser', u'abaissed', u'abalienate', u'abalienation', u'abalone', u'Abama', u'abampere', u'abandon', u'abandonable', u'abandoned', u'abandonedly', u'abandonee', u'abandoner', u'abandonment', u'Abanic', u'Abantes', u'abaptiston', u'Abarambo', u'Abaris', u'abarthrosis', u'abarticular', u'abarticulation', u'abas', u'abase', u'abased', u'abasedly', u'abasedness', u'abasement', u'abaser', u'Abasgi', u'abash', u'abashed', u'abashedly', u'abashedness', u'abashless', u'abashlessly', u'abashment', u'abasia', u'abasic', u'abask', u'Abassin', u'abastardize', u'abatable', u'abate', u'abatement', u'abater', u'abatis', u'abatised', u'abaton', u'abator', u'abattoir', u'Abatua', u'abature', u'abave', u'abaxial', u'abaxile', u'abaze', u'abb', u'Abba', u'abbacomes', u'abbacy', u'Abbadide']\n"
     ]
    }
   ],
   "source": [
    "# 词汇表\n",
    "from nltk.corpus import words\n",
    "print words.words()[:100]"
   ]
  },
  {
   "cell_type": "code",
   "execution_count": 41,
   "metadata": {
    "collapsed": false
   },
   "outputs": [
    {
     "name": "stdout",
     "output_type": "stream",
     "text": [
      "[u'og', u'i', u'jeg', u'det', u'at', u'en', u'den', u'til', u'er', u'som', u'p\\xe5', u'de', u'med', u'han', u'af', u'for', u'ikke', u'der', u'var', u'mig', u'sig', u'men', u'et', u'har', u'om', u'vi', u'min', u'havde', u'ham', u'hun', u'nu', u'over', u'da', u'fra', u'du', u'ud', u'sin', u'dem', u'os', u'op', u'man', u'hans', u'hvor', u'eller', u'hvad', u'skal', u'selv', u'her', u'alle', u'vil', u'blev', u'kunne', u'ind', u'n\\xe5r', u'v\\xe6re', u'dog', u'noget', u'ville', u'jo', u'deres', u'efter', u'ned', u'skulle', u'denne', u'end', u'dette', u'mit', u'ogs\\xe5', u'under', u'have', u'dig', u'anden', u'hende', u'mine', u'alt', u'meget', u'sit', u'sine', u'vor', u'mod', u'disse', u'hvis', u'din', u'nogle', u'hos', u'blive', u'mange', u'ad', u'bliver', u'hendes', u'v\\xe6ret', u'thi', u'jer', u's\\xe5dan', u'de', u'en', u'van', u'ik', u'te', u'dat']\n"
     ]
    }
   ],
   "source": [
    "# 间隔词 the to and等\n",
    "from nltk.corpus import stopwords\n",
    "print stopwords.words()[:100]"
   ]
  }
 ],
 "metadata": {
  "kernelspec": {
   "display_name": "IPython (Python 2)",
   "language": "python",
   "name": "python2"
  },
  "language_info": {
   "codemirror_mode": {
    "name": "ipython",
    "version": 2
   },
   "file_extension": ".py",
   "mimetype": "text/x-python",
   "name": "python",
   "nbconvert_exporter": "python",
   "pygments_lexer": "ipython2",
   "version": "2.7.6"
  }
 },
 "nbformat": 4,
 "nbformat_minor": 0
}
